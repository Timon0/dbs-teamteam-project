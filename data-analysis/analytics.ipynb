{
 "cells": [
  {
   "cell_type": "code",
   "execution_count": null,
   "id": "14a9f807-99ed-4f84-9d02-90968f4d2b12",
   "metadata": {},
   "outputs": [],
   "source": [
    "import mysql.connector\n",
    "import pandas as pd\n",
    "import seaborn as sns\n",
    "import matplotlib.pyplot as plt"
   ]
  },
  {
   "cell_type": "code",
   "execution_count": null,
   "id": "66c94b05-c607-4198-a842-6625250409d3",
   "metadata": {},
   "outputs": [],
   "source": [
    "def load_properties(filepath, sep='=', comment_char='#'):\n",
    "    \"\"\"\n",
    "    Read the file passed as parameter as a properties file.\n",
    "    \"\"\"\n",
    "    props = {}\n",
    "    with open(filepath, \"rt\") as f:\n",
    "        for line in f:\n",
    "            l = line.strip()\n",
    "            if l and not l.startswith(comment_char):\n",
    "                key_value = l.split(sep)\n",
    "                key = key_value[0].strip()\n",
    "                value = sep.join(key_value[1:]).strip().strip('\"') \n",
    "                props[key] = value \n",
    "    return props"
   ]
  },
  {
   "cell_type": "code",
   "execution_count": null,
   "id": "01cf1e9c-e4e3-42c8-ad42-63fb00f3b776",
   "metadata": {},
   "outputs": [],
   "source": [
    "connection = mysql.connector.connect(**load_properties('./project.properties'))"
   ]
  },
  {
   "cell_type": "code",
   "execution_count": null,
   "id": "fb308a47-b536-4c70-af70-2767868c5e9a",
   "metadata": {},
   "outputs": [],
   "source": [
    "### Get values direct from table\n",
    "\n",
    "query = '''\n",
    "select date, avg(rainfall) as rain, airtemp_mean as temp from weatherdailymeasurement\n",
    "  where date >= '2021-12-01'\n",
    "  -- and date < '2021-02-01'\n",
    "  group by date'''\n",
    "\n",
    "sbb_query = '''\n",
    "select date, zugpuenktlichkeit from sbbdelay\n",
    "  where date >= '2021-12-01'\n",
    "  -- and date < '2021-02-01'\n",
    "  and sbbregion_isocode = 'NETZ'\n",
    "'''\n",
    "\n",
    "result = pd.read_sql(sql=query, con=connection)\n",
    "result_df = pd.DataFrame(result)\n",
    "\n",
    "sbb_result = pd.read_sql(sql=sbb_query, con=connection)\n",
    "sbb_result_df = pd.DataFrame(sbb_result)"
   ]
  },
  {
   "cell_type": "code",
   "execution_count": null,
   "id": "768702df-531c-456f-9488-f04bfbe73c0d",
   "metadata": {},
   "outputs": [],
   "source": [
    "### get values from view\n",
    "\n",
    "query = '''\n",
    "select * from weatherdailydelay\n",
    "     \n",
    "where sbbregion_isocode = 'ROT'\n",
    "'''\n",
    "\n",
    "result = pd.read_sql(sql=query, con=connection)\n",
    "result_df = pd.DataFrame(result)"
   ]
  },
  {
   "cell_type": "code",
   "execution_count": null,
   "id": "7e11bfb7-b524-4413-8962-64d09ef1c41b",
   "metadata": {},
   "outputs": [],
   "source": [
    "### change puenktlichkeit to delay, for better visual understanding of correlation to rain and temperature\n",
    "\n",
    "result_df.zugpuenktlichkeit = 100 - result_df.zugpuenktlichkeit\n",
    "\n",
    "result_df.head()"
   ]
  },
  {
   "cell_type": "markdown",
   "id": "5b74ff50-94ab-4a32-9a70-da1361a2fbfe",
   "metadata": {},
   "source": [
    "### Lineplot"
   ]
  },
  {
   "cell_type": "code",
   "execution_count": null,
   "id": "3212a90f-816d-465e-af53-bec8fc93e272",
   "metadata": {},
   "outputs": [],
   "source": [
    "sns.lineplot(data=result_df)\n",
    "# sns.lineplot(data=sbb_result_df)"
   ]
  },
  {
   "cell_type": "markdown",
   "id": "4af1bc69-1f6e-453f-a41a-618e1dec779c",
   "metadata": {},
   "source": [
    "### Scatterplot"
   ]
  },
  {
   "cell_type": "code",
   "execution_count": null,
   "id": "f73644fd-d11d-4437-9c91-d2a1ee8a553c",
   "metadata": {},
   "outputs": [],
   "source": [
    "from matplotlib.colors import LinearSegmentedColormap\n",
    "custom_cmap = LinearSegmentedColormap.from_list(name=\"my_cmap\", colors=[\"blue\", \"red\"])\n",
    "\n",
    "custom_cmap"
   ]
  },
  {
   "cell_type": "code",
   "execution_count": null,
   "id": "09a6f0eb-7a61-4d10-8d57-eb61a5a7b9b0",
   "metadata": {},
   "outputs": [],
   "source": [
    "sns.scatterplot(x=result_df['rain'], y=sbb_result_df['zugpuenktlichkeit'], c=result_df.temp ,cmap=custom_cmap)"
   ]
  },
  {
   "cell_type": "code",
   "execution_count": null,
   "id": "dcdd9bc8-0eb3-4569-b22e-fcdf5137c433",
   "metadata": {},
   "outputs": [],
   "source": [
    "sns.scatterplot(x=result_df.moving_average, y=result_df.zugpuenktlichkeit, c=result_df.temp ,cmap=custom_cmap)"
   ]
  }
 ],
 "metadata": {
  "kernelspec": {
   "display_name": "Python 3 (ipykernel)",
   "language": "python",
   "name": "python3"
  },
  "language_info": {
   "codemirror_mode": {
    "name": "ipython",
    "version": 3
   },
   "file_extension": ".py",
   "mimetype": "text/x-python",
   "name": "python",
   "nbconvert_exporter": "python",
   "pygments_lexer": "ipython3",
   "version": "3.10.3"
  }
 },
 "nbformat": 4,
 "nbformat_minor": 5
}