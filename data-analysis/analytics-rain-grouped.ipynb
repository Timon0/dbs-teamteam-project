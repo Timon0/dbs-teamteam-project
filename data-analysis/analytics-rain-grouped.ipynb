{
 "cells": [
  {
   "cell_type": "markdown",
   "id": "ee27a509-1d86-4133-87fd-c6f8ebb76ec6",
   "metadata": {
    "tags": []
   },
   "source": [
    "### Arrange Data"
   ]
  },
  {
   "cell_type": "code",
   "execution_count": 1,
   "id": "14a9f807-99ed-4f84-9d02-90968f4d2b12",
   "metadata": {},
   "outputs": [],
   "source": [
    "import mysql.connector\n",
    "import pandas as pd\n",
    "import seaborn as sns\n",
    "import matplotlib.pyplot as plt\n",
    "import numpy as np"
   ]
  },
  {
   "cell_type": "code",
   "execution_count": 2,
   "id": "66c94b05-c607-4198-a842-6625250409d3",
   "metadata": {},
   "outputs": [],
   "source": [
    "def load_properties(filepath, sep='=', comment_char='#'):\n",
    "    \"\"\"\n",
    "    Read the file passed as parameter as a properties file.\n",
    "    \"\"\"\n",
    "    props = {}\n",
    "    with open(filepath, \"rt\") as f:\n",
    "        for line in f:\n",
    "            l = line.strip()\n",
    "            if l and not l.startswith(comment_char):\n",
    "                key_value = l.split(sep)\n",
    "                key = key_value[0].strip()\n",
    "                value = sep.join(key_value[1:]).strip().strip('\"') \n",
    "                props[key] = value \n",
    "    return props"
   ]
  },
  {
   "cell_type": "code",
   "execution_count": 3,
   "id": "01cf1e9c-e4e3-42c8-ad42-63fb00f3b776",
   "metadata": {},
   "outputs": [],
   "source": [
    "connection = mysql.connector.connect(**load_properties('./project.properties'))"
   ]
  },
  {
   "cell_type": "code",
   "execution_count": null,
   "id": "fb308a47-b536-4c70-af70-2767868c5e9a",
   "metadata": {},
   "outputs": [
    {
     "name": "stderr",
     "output_type": "stream",
     "text": [
      "C:\\Users\\micha\\AppData\\Local\\Packages\\PythonSoftwareFoundation.Python.3.10_qbz5n2kfra8p0\\LocalCache\\local-packages\\Python310\\site-packages\\pandas\\io\\sql.py:761: UserWarning: pandas only support SQLAlchemy connectable(engine/connection) ordatabase string URI or sqlite3 DBAPI2 connectionother DBAPI2 objects are not tested, please consider using SQLAlchemy\n",
      "  warnings.warn(\n"
     ]
    }
   ],
   "source": [
    "query = '''\n",
    "select *, avg(rainfall) OVER(ORDER BY date\n",
    "     ROWS BETWEEN 2 PRECEDING AND current row)\n",
    "     as moving_average from weatherdailydelay where sbbregion_isocode = 'RWT'\n",
    "'''\n",
    "\n",
    "result = pd.read_sql(sql=query, con=connection)\n",
    "result_df = pd.DataFrame(result)"
   ]
  },
  {
   "cell_type": "code",
   "execution_count": null,
   "id": "f98b0cd5",
   "metadata": {},
   "outputs": [],
   "source": [
    "result_df.head()"
   ]
  },
  {
   "cell_type": "code",
   "execution_count": null,
   "id": "38a96081",
   "metadata": {},
   "outputs": [],
   "source": [
    "### change puenktlichkeit to delay, for better visual understanding of correlation to rain and temperature\n",
    "\n",
    "result_df.zugpuenktlichkeit = 100 - result_df.zugpuenktlichkeit"
   ]
  },
  {
   "cell_type": "code",
   "execution_count": null,
   "id": "768702df-531c-456f-9488-f04bfbe73c0d",
   "metadata": {},
   "outputs": [],
   "source": [
    "result_df.head()"
   ]
  },
  {
   "cell_type": "code",
   "execution_count": null,
   "id": "7e11bfb7-b524-4413-8962-64d09ef1c41b",
   "metadata": {},
   "outputs": [],
   "source": [
    "import plotly.io as pio\n",
    "import plotly.graph_objects as go\n",
    "import plotly.express as px"
   ]
  },
  {
   "cell_type": "markdown",
   "id": "656e9b7e-dcda-4650-88e2-b09f512fabb9",
   "metadata": {},
   "source": [
    "### Below Zero"
   ]
  },
  {
   "cell_type": "code",
   "execution_count": null,
   "id": "930a947e-300b-4423-9697-3540d25d7ce9",
   "metadata": {},
   "outputs": [],
   "source": [
    "filtered_df = result_df[result_df['temp'] < 0]"
   ]
  },
  {
   "cell_type": "code",
   "execution_count": null,
   "id": "ceb6a56c-7757-41fa-8c71-663f11a4a4af",
   "metadata": {},
   "outputs": [],
   "source": [
    "max_rainfall = max(filtered_df['rainfall'])"
   ]
  },
  {
   "cell_type": "code",
   "execution_count": null,
   "id": "7cdbc8da-e82e-453e-bdb2-aff5640836d8",
   "metadata": {},
   "outputs": [],
   "source": [
    "rain_range = np.arange(0, max_rainfall + max_rainfall / 5, max_rainfall / 5)"
   ]
  },
  {
   "cell_type": "code",
   "execution_count": null,
   "id": "ec1405ac-fd4a-4f90-9e7c-6b59529fe883",
   "metadata": {},
   "outputs": [],
   "source": [
    "grouped_df = filtered_df.groupby(pd.cut(filtered_df['rainfall'], rain_range)).mean()"
   ]
  },
  {
   "cell_type": "code",
   "execution_count": null,
   "id": "5bdb06d3-a41f-4a83-a288-58dc65f4e17b",
   "metadata": {},
   "outputs": [],
   "source": [
    "grouped_df"
   ]
  },
  {
   "cell_type": "code",
   "execution_count": null,
   "id": "fcbb6f95-a261-47be-a1b1-746f42ac31cd",
   "metadata": {},
   "outputs": [],
   "source": [
    "text_array = [(str(round(value, 1)) + \"% der Züge haben mindestens 3 Min Verspätung\") for value in grouped_df['zugpuenktlichkeit'].to_numpy()]"
   ]
  },
  {
   "cell_type": "markdown",
   "id": "5b74ff50-94ab-4a32-9a70-da1361a2fbfe",
   "metadata": {
    "tags": []
   },
   "source": [
    "### Lineplot"
   ]
  },
  {
   "cell_type": "code",
   "execution_count": null,
   "id": "3212a90f-816d-465e-af53-bec8fc93e272",
   "metadata": {
    "tags": []
   },
   "outputs": [],
   "source": [
    "datatrace1 = {\n",
    "    'name': 'Rainfall',\n",
    "    'type': 'bar', \n",
    "    'y': rain_range, \n",
    "    'x': grouped_df['zugpuenktlichkeit'],\n",
    "    'orientation': 'h',\n",
    "    'text': text_array,\n",
    "    'marker':{'color':'#dba74b'}\n",
    "}\n",
    "\n",
    "layout = {\n",
    "    'title': 'SBB Verspätung gruppiert nach Schneefall'\n",
    "}\n",
    "\n",
    "figdict = {'data': [datatrace1], \n",
    "          'layout': layout}\n",
    "\n",
    "fig = go.Figure(**figdict)\n",
    "\n",
    "fig.update_layout(\n",
    "    yaxis = dict(\n",
    "        tickmode = 'array',\n",
    "        tickvals = rain_range,\n",
    "        ticktext = ['Wenig bis kein Schneefall','Wenig Schneefall', 'Mittlerer Schneefall','Mittelstarker Schneefall','Starker Schneefall','']\n",
    "    )\n",
    ")\n",
    "\n",
    "fig.update_traces(textposition='auto')\n",
    "fig.show()"
   ]
  },
  {
   "cell_type": "code",
   "execution_count": null,
   "id": "84fd3024-f2d1-41a9-a714-207a9d9200df",
   "metadata": {},
   "outputs": [],
   "source": [
    "fig = px.bar"
   ]
  },
  {
   "cell_type": "markdown",
   "id": "a2dbfa94-4644-4c72-b37c-6a353b7a737b",
   "metadata": {
    "tags": []
   },
   "source": [
    "### Above Zero"
   ]
  },
  {
   "cell_type": "code",
   "execution_count": null,
   "id": "a38d5e55-fca5-4523-b445-774b0df51339",
   "metadata": {},
   "outputs": [],
   "source": [
    "filtered_above_zero_df = result_df[result_df['temp'] > 0]"
   ]
  },
  {
   "cell_type": "code",
   "execution_count": null,
   "id": "27b9302f-b5fe-4b8c-a50d-b64d25291b6e",
   "metadata": {},
   "outputs": [],
   "source": [
    "max_rainfall_above_zero = max(filtered_above_zero_df['rainfall'])"
   ]
  },
  {
   "cell_type": "code",
   "execution_count": null,
   "id": "06f84f5e-805f-485d-a173-0bf3916f4ec4",
   "metadata": {},
   "outputs": [],
   "source": [
    "rain_range_above_zero = np.arange(0, max_rainfall_above_zero + max_rainfall_above_zero / 3, max_rainfall_above_zero / 3)"
   ]
  },
  {
   "cell_type": "code",
   "execution_count": null,
   "id": "bcf0e697-eb51-4f5e-8412-6885e7cd39f9",
   "metadata": {},
   "outputs": [],
   "source": [
    "grouped_above_zero_df = filtered_above_zero_df.groupby(pd.cut(filtered_above_zero_df['rainfall'], rain_range)).mean()"
   ]
  },
  {
   "cell_type": "code",
   "execution_count": null,
   "id": "64e7ecc0-4db7-441d-90ad-481c84d01916",
   "metadata": {},
   "outputs": [],
   "source": [
    "grouped_above_zero_df"
   ]
  },
  {
   "cell_type": "markdown",
   "id": "5b622c90-a66c-4d1c-a86e-6af4b31e47aa",
   "metadata": {
    "tags": []
   },
   "source": [
    "### Lineplot"
   ]
  },
  {
   "cell_type": "code",
   "execution_count": null,
   "id": "fd805f51-fab1-496d-bd1e-dadf7de78933",
   "metadata": {},
   "outputs": [],
   "source": [
    "datatrace1 = {\n",
    "    'name': 'Delay when temperature above 0',\n",
    "    'type': 'bar', \n",
    "    'x': rain_range, \n",
    "    'y': grouped_above_zero_df['zugpuenktlichkeit']\n",
    "}\n",
    "datatrace2 = {\n",
    "    'name': 'Delay when temperature below 0',\n",
    "    'type': 'bar', \n",
    "    'x': rain_range, \n",
    "    'y': grouped_df['zugpuenktlichkeit'],\n",
    "}\n",
    "\n",
    "\n",
    "layout = {\n",
    "    'title': 'SBB Verspätung gruppiert nach Regenmenge'\n",
    "}\n",
    "\n",
    "figdict = {'data': [datatrace1, datatrace2], \n",
    "          'layout': layout}\n",
    "\n",
    "go.Figure(**figdict)"
   ]
  }
 ],
 "metadata": {
  "kernelspec": {
   "display_name": "Python 3 (ipykernel)",
   "language": "python",
   "name": "python3"
  },
  "language_info": {
   "codemirror_mode": {
    "name": "ipython",
    "version": 3
   },
   "file_extension": ".py",
   "mimetype": "text/x-python",
   "name": "python",
   "nbconvert_exporter": "python",
   "pygments_lexer": "ipython3",
   "version": "3.10.4"
  }
 },
 "nbformat": 4,
 "nbformat_minor": 5
}
