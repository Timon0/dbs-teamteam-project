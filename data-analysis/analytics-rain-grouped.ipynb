{
 "cells": [
  {
   "cell_type": "markdown",
   "id": "ee27a509-1d86-4133-87fd-c6f8ebb76ec6",
   "metadata": {
    "tags": []
   },
   "source": [
    "### Arrange Data"
   ]
  },
  {
   "cell_type": "code",
   "execution_count": 1,
   "id": "14a9f807-99ed-4f84-9d02-90968f4d2b12",
   "metadata": {},
   "outputs": [],
   "source": [
    "import mysql.connector\n",
    "import pandas as pd\n",
    "import seaborn as sns\n",
    "import matplotlib.pyplot as plt\n",
    "import numpy as np"
   ]
  },
  {
   "cell_type": "code",
   "execution_count": 2,
   "id": "66c94b05-c607-4198-a842-6625250409d3",
   "metadata": {},
   "outputs": [],
   "source": [
    "def load_properties(filepath, sep='=', comment_char='#'):\n",
    "    \"\"\"\n",
    "    Read the file passed as parameter as a properties file.\n",
    "    \"\"\"\n",
    "    props = {}\n",
    "    with open(filepath, \"rt\") as f:\n",
    "        for line in f:\n",
    "            l = line.strip()\n",
    "            if l and not l.startswith(comment_char):\n",
    "                key_value = l.split(sep)\n",
    "                key = key_value[0].strip()\n",
    "                value = sep.join(key_value[1:]).strip().strip('\"') \n",
    "                props[key] = value \n",
    "    return props"
   ]
  },
  {
   "cell_type": "code",
   "execution_count": 3,
   "id": "01cf1e9c-e4e3-42c8-ad42-63fb00f3b776",
   "metadata": {},
   "outputs": [],
   "source": [
    "connection = mysql.connector.connect(**load_properties('./project.properties'))"
   ]
  },
  {
   "cell_type": "code",
   "execution_count": 4,
   "id": "fb308a47-b536-4c70-af70-2767868c5e9a",
   "metadata": {},
   "outputs": [
    {
     "name": "stderr",
     "output_type": "stream",
     "text": [
      "C:\\Users\\micha\\AppData\\Local\\Packages\\PythonSoftwareFoundation.Python.3.10_qbz5n2kfra8p0\\LocalCache\\local-packages\\Python310\\site-packages\\pandas\\io\\sql.py:761: UserWarning: pandas only support SQLAlchemy connectable(engine/connection) ordatabase string URI or sqlite3 DBAPI2 connectionother DBAPI2 objects are not tested, please consider using SQLAlchemy\n",
      "  warnings.warn(\n"
     ]
    }
   ],
   "source": [
    "query = '''\n",
    "select *, avg(rainfall) OVER(ORDER BY date\n",
    "     ROWS BETWEEN 2 PRECEDING AND current row)\n",
    "     as moving_average from weatherdailydelay where sbbregion_isocode = 'RWT'\n",
    "'''\n",
    "\n",
    "result = pd.read_sql(sql=query, con=connection)\n",
    "result_df = pd.DataFrame(result)"
   ]
  },
  {
   "cell_type": "code",
   "execution_count": 5,
   "id": "f98b0cd5",
   "metadata": {},
   "outputs": [
    {
     "data": {
      "text/html": [
       "<div>\n",
       "<style scoped>\n",
       "    .dataframe tbody tr th:only-of-type {\n",
       "        vertical-align: middle;\n",
       "    }\n",
       "\n",
       "    .dataframe tbody tr th {\n",
       "        vertical-align: top;\n",
       "    }\n",
       "\n",
       "    .dataframe thead th {\n",
       "        text-align: right;\n",
       "    }\n",
       "</style>\n",
       "<table border=\"1\" class=\"dataframe\">\n",
       "  <thead>\n",
       "    <tr style=\"text-align: right;\">\n",
       "      <th></th>\n",
       "      <th>sbbregion_isocode</th>\n",
       "      <th>date</th>\n",
       "      <th>rainfall</th>\n",
       "      <th>temp</th>\n",
       "      <th>zugpuenktlichkeit</th>\n",
       "      <th>moving_average</th>\n",
       "    </tr>\n",
       "  </thead>\n",
       "  <tbody>\n",
       "    <tr>\n",
       "      <th>0</th>\n",
       "      <td>RWT</td>\n",
       "      <td>2021-01-01</td>\n",
       "      <td>0.775</td>\n",
       "      <td>-0.375</td>\n",
       "      <td>94.018834</td>\n",
       "      <td>0.775000</td>\n",
       "    </tr>\n",
       "    <tr>\n",
       "      <th>1</th>\n",
       "      <td>RWT</td>\n",
       "      <td>2021-01-02</td>\n",
       "      <td>0.025</td>\n",
       "      <td>-0.650</td>\n",
       "      <td>96.219471</td>\n",
       "      <td>0.400000</td>\n",
       "    </tr>\n",
       "    <tr>\n",
       "      <th>2</th>\n",
       "      <td>RWT</td>\n",
       "      <td>2021-01-03</td>\n",
       "      <td>0.200</td>\n",
       "      <td>-2.250</td>\n",
       "      <td>95.556445</td>\n",
       "      <td>0.333333</td>\n",
       "    </tr>\n",
       "    <tr>\n",
       "      <th>3</th>\n",
       "      <td>RWT</td>\n",
       "      <td>2021-01-04</td>\n",
       "      <td>0.100</td>\n",
       "      <td>-3.125</td>\n",
       "      <td>92.288617</td>\n",
       "      <td>0.108333</td>\n",
       "    </tr>\n",
       "    <tr>\n",
       "      <th>4</th>\n",
       "      <td>RWT</td>\n",
       "      <td>2021-01-05</td>\n",
       "      <td>0.000</td>\n",
       "      <td>-2.700</td>\n",
       "      <td>94.436709</td>\n",
       "      <td>0.100000</td>\n",
       "    </tr>\n",
       "  </tbody>\n",
       "</table>\n",
       "</div>"
      ],
      "text/plain": [
       "  sbbregion_isocode        date  rainfall   temp  zugpuenktlichkeit  \\\n",
       "0               RWT  2021-01-01     0.775 -0.375          94.018834   \n",
       "1               RWT  2021-01-02     0.025 -0.650          96.219471   \n",
       "2               RWT  2021-01-03     0.200 -2.250          95.556445   \n",
       "3               RWT  2021-01-04     0.100 -3.125          92.288617   \n",
       "4               RWT  2021-01-05     0.000 -2.700          94.436709   \n",
       "\n",
       "   moving_average  \n",
       "0        0.775000  \n",
       "1        0.400000  \n",
       "2        0.333333  \n",
       "3        0.108333  \n",
       "4        0.100000  "
      ]
     },
     "execution_count": 5,
     "metadata": {},
     "output_type": "execute_result"
    }
   ],
   "source": [
    "result_df.head()"
   ]
  },
  {
   "cell_type": "code",
   "execution_count": 6,
   "id": "38a96081",
   "metadata": {},
   "outputs": [],
   "source": [
    "### change puenktlichkeit to delay, for better visual understanding of correlation to rain and temperature\n",
    "\n",
    "result_df.zugpuenktlichkeit = 100 - result_df.zugpuenktlichkeit"
   ]
  },
  {
   "cell_type": "code",
   "execution_count": 7,
   "id": "768702df-531c-456f-9488-f04bfbe73c0d",
   "metadata": {},
   "outputs": [
    {
     "data": {
      "text/html": [
       "<div>\n",
       "<style scoped>\n",
       "    .dataframe tbody tr th:only-of-type {\n",
       "        vertical-align: middle;\n",
       "    }\n",
       "\n",
       "    .dataframe tbody tr th {\n",
       "        vertical-align: top;\n",
       "    }\n",
       "\n",
       "    .dataframe thead th {\n",
       "        text-align: right;\n",
       "    }\n",
       "</style>\n",
       "<table border=\"1\" class=\"dataframe\">\n",
       "  <thead>\n",
       "    <tr style=\"text-align: right;\">\n",
       "      <th></th>\n",
       "      <th>sbbregion_isocode</th>\n",
       "      <th>date</th>\n",
       "      <th>rainfall</th>\n",
       "      <th>temp</th>\n",
       "      <th>zugpuenktlichkeit</th>\n",
       "      <th>moving_average</th>\n",
       "    </tr>\n",
       "  </thead>\n",
       "  <tbody>\n",
       "    <tr>\n",
       "      <th>0</th>\n",
       "      <td>RWT</td>\n",
       "      <td>2021-01-01</td>\n",
       "      <td>0.775</td>\n",
       "      <td>-0.375</td>\n",
       "      <td>5.981166</td>\n",
       "      <td>0.775000</td>\n",
       "    </tr>\n",
       "    <tr>\n",
       "      <th>1</th>\n",
       "      <td>RWT</td>\n",
       "      <td>2021-01-02</td>\n",
       "      <td>0.025</td>\n",
       "      <td>-0.650</td>\n",
       "      <td>3.780529</td>\n",
       "      <td>0.400000</td>\n",
       "    </tr>\n",
       "    <tr>\n",
       "      <th>2</th>\n",
       "      <td>RWT</td>\n",
       "      <td>2021-01-03</td>\n",
       "      <td>0.200</td>\n",
       "      <td>-2.250</td>\n",
       "      <td>4.443555</td>\n",
       "      <td>0.333333</td>\n",
       "    </tr>\n",
       "    <tr>\n",
       "      <th>3</th>\n",
       "      <td>RWT</td>\n",
       "      <td>2021-01-04</td>\n",
       "      <td>0.100</td>\n",
       "      <td>-3.125</td>\n",
       "      <td>7.711383</td>\n",
       "      <td>0.108333</td>\n",
       "    </tr>\n",
       "    <tr>\n",
       "      <th>4</th>\n",
       "      <td>RWT</td>\n",
       "      <td>2021-01-05</td>\n",
       "      <td>0.000</td>\n",
       "      <td>-2.700</td>\n",
       "      <td>5.563291</td>\n",
       "      <td>0.100000</td>\n",
       "    </tr>\n",
       "  </tbody>\n",
       "</table>\n",
       "</div>"
      ],
      "text/plain": [
       "  sbbregion_isocode        date  rainfall   temp  zugpuenktlichkeit  \\\n",
       "0               RWT  2021-01-01     0.775 -0.375           5.981166   \n",
       "1               RWT  2021-01-02     0.025 -0.650           3.780529   \n",
       "2               RWT  2021-01-03     0.200 -2.250           4.443555   \n",
       "3               RWT  2021-01-04     0.100 -3.125           7.711383   \n",
       "4               RWT  2021-01-05     0.000 -2.700           5.563291   \n",
       "\n",
       "   moving_average  \n",
       "0        0.775000  \n",
       "1        0.400000  \n",
       "2        0.333333  \n",
       "3        0.108333  \n",
       "4        0.100000  "
      ]
     },
     "execution_count": 7,
     "metadata": {},
     "output_type": "execute_result"
    }
   ],
   "source": [
    "result_df.head()"
   ]
  },
  {
   "cell_type": "code",
   "execution_count": 8,
   "id": "7e11bfb7-b524-4413-8962-64d09ef1c41b",
   "metadata": {},
   "outputs": [],
   "source": [
    "import plotly.io as pio\n",
    "import plotly.graph_objects as go"
   ]
  },
  {
   "cell_type": "markdown",
   "id": "656e9b7e-dcda-4650-88e2-b09f512fabb9",
   "metadata": {},
   "source": [
    "### Below Zero"
   ]
  },
  {
   "cell_type": "code",
   "execution_count": 9,
   "id": "930a947e-300b-4423-9697-3540d25d7ce9",
   "metadata": {},
   "outputs": [],
   "source": [
    "filtered_df = result_df[result_df['temp'] < 0]"
   ]
  },
  {
   "cell_type": "code",
   "execution_count": 10,
   "id": "ceb6a56c-7757-41fa-8c71-663f11a4a4af",
   "metadata": {},
   "outputs": [],
   "source": [
    "max_rainfall = max(filtered_df['rainfall'])"
   ]
  },
  {
   "cell_type": "code",
   "execution_count": 11,
   "id": "7cdbc8da-e82e-453e-bdb2-aff5640836d8",
   "metadata": {},
   "outputs": [],
   "source": [
    "rain_range = np.arange(0, max_rainfall + max_rainfall / 5, max_rainfall / 5)"
   ]
  },
  {
   "cell_type": "code",
   "execution_count": 12,
   "id": "ec1405ac-fd4a-4f90-9e7c-6b59529fe883",
   "metadata": {},
   "outputs": [],
   "source": [
    "grouped_df = filtered_df.groupby(pd.cut(filtered_df['rainfall'], rain_range)).mean()"
   ]
  },
  {
   "cell_type": "code",
   "execution_count": 13,
   "id": "5bdb06d3-a41f-4a83-a288-58dc65f4e17b",
   "metadata": {},
   "outputs": [
    {
     "data": {
      "text/html": [
       "<div>\n",
       "<style scoped>\n",
       "    .dataframe tbody tr th:only-of-type {\n",
       "        vertical-align: middle;\n",
       "    }\n",
       "\n",
       "    .dataframe tbody tr th {\n",
       "        vertical-align: top;\n",
       "    }\n",
       "\n",
       "    .dataframe thead th {\n",
       "        text-align: right;\n",
       "    }\n",
       "</style>\n",
       "<table border=\"1\" class=\"dataframe\">\n",
       "  <thead>\n",
       "    <tr style=\"text-align: right;\">\n",
       "      <th></th>\n",
       "      <th>rainfall</th>\n",
       "      <th>temp</th>\n",
       "      <th>zugpuenktlichkeit</th>\n",
       "      <th>moving_average</th>\n",
       "    </tr>\n",
       "    <tr>\n",
       "      <th>rainfall</th>\n",
       "      <th></th>\n",
       "      <th></th>\n",
       "      <th></th>\n",
       "      <th></th>\n",
       "    </tr>\n",
       "  </thead>\n",
       "  <tbody>\n",
       "    <tr>\n",
       "      <th>(0.0, 3.91]</th>\n",
       "      <td>1.12125</td>\n",
       "      <td>-1.52375</td>\n",
       "      <td>12.483444</td>\n",
       "      <td>3.044167</td>\n",
       "    </tr>\n",
       "    <tr>\n",
       "      <th>(3.91, 7.82]</th>\n",
       "      <td>4.47500</td>\n",
       "      <td>-0.52500</td>\n",
       "      <td>11.317501</td>\n",
       "      <td>3.358333</td>\n",
       "    </tr>\n",
       "    <tr>\n",
       "      <th>(7.82, 11.73]</th>\n",
       "      <td>8.97500</td>\n",
       "      <td>-1.02500</td>\n",
       "      <td>4.748083</td>\n",
       "      <td>7.858333</td>\n",
       "    </tr>\n",
       "    <tr>\n",
       "      <th>(11.73, 15.64]</th>\n",
       "      <td>12.86250</td>\n",
       "      <td>-1.38750</td>\n",
       "      <td>19.929579</td>\n",
       "      <td>4.812500</td>\n",
       "    </tr>\n",
       "    <tr>\n",
       "      <th>(15.64, 19.55]</th>\n",
       "      <td>18.45000</td>\n",
       "      <td>-1.07500</td>\n",
       "      <td>32.909360</td>\n",
       "      <td>9.316667</td>\n",
       "    </tr>\n",
       "  </tbody>\n",
       "</table>\n",
       "</div>"
      ],
      "text/plain": [
       "                rainfall     temp  zugpuenktlichkeit  moving_average\n",
       "rainfall                                                            \n",
       "(0.0, 3.91]      1.12125 -1.52375          12.483444        3.044167\n",
       "(3.91, 7.82]     4.47500 -0.52500          11.317501        3.358333\n",
       "(7.82, 11.73]    8.97500 -1.02500           4.748083        7.858333\n",
       "(11.73, 15.64]  12.86250 -1.38750          19.929579        4.812500\n",
       "(15.64, 19.55]  18.45000 -1.07500          32.909360        9.316667"
      ]
     },
     "execution_count": 13,
     "metadata": {},
     "output_type": "execute_result"
    }
   ],
   "source": [
    "grouped_df"
   ]
  },
  {
   "cell_type": "markdown",
   "id": "5b74ff50-94ab-4a32-9a70-da1361a2fbfe",
   "metadata": {
    "tags": []
   },
   "source": [
    "### Lineplot"
   ]
  },
  {
   "cell_type": "code",
   "execution_count": null,
   "id": "3212a90f-816d-465e-af53-bec8fc93e272",
   "metadata": {},
   "outputs": [],
   "source": [
    "datatrace1 = {\n",
    "    'name': 'Rainfall',\n",
    "    'type': 'bar', \n",
    "    'y': rain_range, \n",
    "    'x': grouped_df['zugpuenktlichkeit'],\n",
    "    'orientation': 'h'\n",
    "}\n",
    "\n",
    "layout = {\n",
    "    'title': 'SBB Verspätung gruppiert nach Regenmenge'\n",
    "}\n",
    "\n",
    "figdict = {'data': [datatrace1], \n",
    "          'layout': layout}\n",
    "\n",
    "fig = go.Figure(**figdict)\n",
    "\n",
    "fig.update_layout(\n",
    "    yaxis = dict(\n",
    "        tickmode = 'array',\n",
    "        tickvals = rain_range,\n",
    "        ticktext = ['(Fast) kein Regenfall (0 - 3.91mm)','Wenig Regenfall (3.91 - 7.82mm)','Mittlerer Regenfall (7.82 - 11.73mm)','Mittelstarker Regenfall (11.73 - 15.64mm)','Starker Regenfall (15.64 - 19.55mm)',]\n",
    "    )\n",
    ")\n",
    "\n",
    "fig.show()"
   ]
  },
  {
   "cell_type": "markdown",
   "id": "a2dbfa94-4644-4c72-b37c-6a353b7a737b",
   "metadata": {
    "tags": []
   },
   "source": [
    "### Above Zero"
   ]
  },
  {
   "cell_type": "code",
   "execution_count": 15,
   "id": "a38d5e55-fca5-4523-b445-774b0df51339",
   "metadata": {},
   "outputs": [],
   "source": [
    "filtered_above_zero_df = result_df[result_df['temp'] > 0]"
   ]
  },
  {
   "cell_type": "code",
   "execution_count": 16,
   "id": "27b9302f-b5fe-4b8c-a50d-b64d25291b6e",
   "metadata": {},
   "outputs": [],
   "source": [
    "max_rainfall_above_zero = max(filtered_above_zero_df['rainfall'])"
   ]
  },
  {
   "cell_type": "code",
   "execution_count": 17,
   "id": "06f84f5e-805f-485d-a173-0bf3916f4ec4",
   "metadata": {},
   "outputs": [],
   "source": [
    "rain_range_above_zero = np.arange(0, max_rainfall_above_zero + max_rainfall_above_zero / 3, max_rainfall_above_zero / 3)"
   ]
  },
  {
   "cell_type": "code",
   "execution_count": 18,
   "id": "bcf0e697-eb51-4f5e-8412-6885e7cd39f9",
   "metadata": {},
   "outputs": [],
   "source": [
    "grouped_above_zero_df = filtered_above_zero_df.groupby(pd.cut(filtered_above_zero_df['rainfall'], rain_range)).mean()"
   ]
  },
  {
   "cell_type": "code",
   "execution_count": 19,
   "id": "64e7ecc0-4db7-441d-90ad-481c84d01916",
   "metadata": {},
   "outputs": [
    {
     "data": {
      "text/html": [
       "<div>\n",
       "<style scoped>\n",
       "    .dataframe tbody tr th:only-of-type {\n",
       "        vertical-align: middle;\n",
       "    }\n",
       "\n",
       "    .dataframe tbody tr th {\n",
       "        vertical-align: top;\n",
       "    }\n",
       "\n",
       "    .dataframe thead th {\n",
       "        text-align: right;\n",
       "    }\n",
       "</style>\n",
       "<table border=\"1\" class=\"dataframe\">\n",
       "  <thead>\n",
       "    <tr style=\"text-align: right;\">\n",
       "      <th></th>\n",
       "      <th>rainfall</th>\n",
       "      <th>temp</th>\n",
       "      <th>zugpuenktlichkeit</th>\n",
       "      <th>moving_average</th>\n",
       "    </tr>\n",
       "    <tr>\n",
       "      <th>rainfall</th>\n",
       "      <th></th>\n",
       "      <th></th>\n",
       "      <th></th>\n",
       "      <th></th>\n",
       "    </tr>\n",
       "  </thead>\n",
       "  <tbody>\n",
       "    <tr>\n",
       "      <th>(0.0, 3.91]</th>\n",
       "      <td>0.901429</td>\n",
       "      <td>9.787857</td>\n",
       "      <td>11.778154</td>\n",
       "      <td>2.315873</td>\n",
       "    </tr>\n",
       "    <tr>\n",
       "      <th>(3.91, 7.82]</th>\n",
       "      <td>5.940833</td>\n",
       "      <td>9.510000</td>\n",
       "      <td>13.287450</td>\n",
       "      <td>5.728611</td>\n",
       "    </tr>\n",
       "    <tr>\n",
       "      <th>(7.82, 11.73]</th>\n",
       "      <td>9.989474</td>\n",
       "      <td>9.593421</td>\n",
       "      <td>13.381015</td>\n",
       "      <td>7.586842</td>\n",
       "    </tr>\n",
       "    <tr>\n",
       "      <th>(11.73, 15.64]</th>\n",
       "      <td>13.727632</td>\n",
       "      <td>11.086842</td>\n",
       "      <td>13.014052</td>\n",
       "      <td>10.209649</td>\n",
       "    </tr>\n",
       "    <tr>\n",
       "      <th>(15.64, 19.55]</th>\n",
       "      <td>17.770833</td>\n",
       "      <td>7.133333</td>\n",
       "      <td>12.775379</td>\n",
       "      <td>9.450000</td>\n",
       "    </tr>\n",
       "  </tbody>\n",
       "</table>\n",
       "</div>"
      ],
      "text/plain": [
       "                 rainfall       temp  zugpuenktlichkeit  moving_average\n",
       "rainfall                                                               \n",
       "(0.0, 3.91]      0.901429   9.787857          11.778154        2.315873\n",
       "(3.91, 7.82]     5.940833   9.510000          13.287450        5.728611\n",
       "(7.82, 11.73]    9.989474   9.593421          13.381015        7.586842\n",
       "(11.73, 15.64]  13.727632  11.086842          13.014052       10.209649\n",
       "(15.64, 19.55]  17.770833   7.133333          12.775379        9.450000"
      ]
     },
     "execution_count": 19,
     "metadata": {},
     "output_type": "execute_result"
    }
   ],
   "source": [
    "grouped_above_zero_df"
   ]
  },
  {
   "cell_type": "markdown",
   "id": "5b622c90-a66c-4d1c-a86e-6af4b31e47aa",
   "metadata": {
    "tags": []
   },
   "source": [
    "### Lineplot"
   ]
  },
  {
   "cell_type": "code",
   "execution_count": null,
   "id": "fd805f51-fab1-496d-bd1e-dadf7de78933",
   "metadata": {},
   "outputs": [],
   "source": [
    "datatrace1 = {\n",
    "    'name': 'Delay when temperature above 0',\n",
    "    'type': 'bar', \n",
    "    'x': rain_range, \n",
    "    'y': grouped_above_zero_df['zugpuenktlichkeit']\n",
    "}\n",
    "datatrace2 = {\n",
    "    'name': 'Delay when temperature below 0',\n",
    "    'type': 'bar', \n",
    "    'x': rain_range, \n",
    "    'y': grouped_df['zugpuenktlichkeit'],\n",
    "}\n",
    "\n",
    "\n",
    "layout = {\n",
    "    'title': 'SBB Verspätung gruppiert nach Regenmenge'\n",
    "}\n",
    "\n",
    "figdict = {'data': [datatrace1, datatrace2], \n",
    "          'layout': layout}\n",
    "\n",
    "go.Figure(**figdict)"
   ]
  }
 ],
 "metadata": {
  "kernelspec": {
   "display_name": "Python 3 (ipykernel)",
   "language": "python",
   "name": "python3"
  },
  "language_info": {
   "codemirror_mode": {
    "name": "ipython",
    "version": 3
   },
   "file_extension": ".py",
   "mimetype": "text/x-python",
   "name": "python",
   "nbconvert_exporter": "python",
   "pygments_lexer": "ipython3",
   "version": "3.10.4"
  }
 },
 "nbformat": 4,
 "nbformat_minor": 5
}
