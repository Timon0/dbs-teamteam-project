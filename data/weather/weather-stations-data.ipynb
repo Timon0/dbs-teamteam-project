{
 "cells": [
  {
   "cell_type": "code",
   "execution_count": 1,
   "id": "148d3e1b",
   "metadata": {},
   "outputs": [],
   "source": [
    "import pandas as pd"
   ]
  },
  {
   "cell_type": "markdown",
   "id": "bd4a4a0e",
   "metadata": {},
   "source": [
    "### Load stations file"
   ]
  },
  {
   "cell_type": "code",
   "execution_count": 2,
   "id": "7cb16448",
   "metadata": {},
   "outputs": [
    {
     "data": {
      "text/html": [
       "<div>\n",
       "<style scoped>\n",
       "    .dataframe tbody tr th:only-of-type {\n",
       "        vertical-align: middle;\n",
       "    }\n",
       "\n",
       "    .dataframe tbody tr th {\n",
       "        vertical-align: top;\n",
       "    }\n",
       "\n",
       "    .dataframe thead th {\n",
       "        text-align: right;\n",
       "    }\n",
       "</style>\n",
       "<table border=\"1\" class=\"dataframe\">\n",
       "  <thead>\n",
       "    <tr style=\"text-align: right;\">\n",
       "      <th></th>\n",
       "      <th>Station</th>\n",
       "      <th>station/location</th>\n",
       "      <th>WIGOS-ID</th>\n",
       "      <th>Data since</th>\n",
       "      <th>Station height m. a. sea level</th>\n",
       "      <th>CoordinatesE</th>\n",
       "      <th>CoordinatesN</th>\n",
       "      <th>Latitude</th>\n",
       "      <th>Longitude</th>\n",
       "      <th>Climate region</th>\n",
       "      <th>Canton</th>\n",
       "      <th>URL Previous years (verified data)</th>\n",
       "      <th>URL Current year</th>\n",
       "    </tr>\n",
       "  </thead>\n",
       "  <tbody>\n",
       "    <tr>\n",
       "      <th>0</th>\n",
       "      <td>Altdorf</td>\n",
       "      <td>ALT</td>\n",
       "      <td>0-20000-0-06672</td>\n",
       "      <td>01.01.1864</td>\n",
       "      <td>438</td>\n",
       "      <td>2690181</td>\n",
       "      <td>1193564</td>\n",
       "      <td>46.887069</td>\n",
       "      <td>8.621894</td>\n",
       "      <td>Central Alpine north slope</td>\n",
       "      <td>UR</td>\n",
       "      <td>https://data.geo.admin.ch/ch.meteoschweiz.klim...</td>\n",
       "      <td>https://data.geo.admin.ch/ch.meteoschweiz.klim...</td>\n",
       "    </tr>\n",
       "    <tr>\n",
       "      <th>1</th>\n",
       "      <td>Andermatt</td>\n",
       "      <td>ANT</td>\n",
       "      <td>0-20000-0-06695</td>\n",
       "      <td>01.01.1864</td>\n",
       "      <td>1438</td>\n",
       "      <td>2687445</td>\n",
       "      <td>1165044</td>\n",
       "      <td>46.630914</td>\n",
       "      <td>8.580553</td>\n",
       "      <td>Central Alpine north slope</td>\n",
       "      <td>UR</td>\n",
       "      <td>https://data.geo.admin.ch/ch.meteoschweiz.klim...</td>\n",
       "      <td>https://data.geo.admin.ch/ch.meteoschweiz.klim...</td>\n",
       "    </tr>\n",
       "    <tr>\n",
       "      <th>2</th>\n",
       "      <td>Basel / Binningen</td>\n",
       "      <td>BAS</td>\n",
       "      <td>0-20000-0-06601</td>\n",
       "      <td>01.01.1755</td>\n",
       "      <td>316</td>\n",
       "      <td>2610909</td>\n",
       "      <td>1265612</td>\n",
       "      <td>47.541142</td>\n",
       "      <td>7.583525</td>\n",
       "      <td>Eastern Jura</td>\n",
       "      <td>BL</td>\n",
       "      <td>https://data.geo.admin.ch/ch.meteoschweiz.klim...</td>\n",
       "      <td>https://data.geo.admin.ch/ch.meteoschweiz.klim...</td>\n",
       "    </tr>\n",
       "    <tr>\n",
       "      <th>3</th>\n",
       "      <td>Bern / Zollikofen</td>\n",
       "      <td>BER</td>\n",
       "      <td>0-20000-0-06631</td>\n",
       "      <td>01.01.1864</td>\n",
       "      <td>553</td>\n",
       "      <td>2601934</td>\n",
       "      <td>1204410</td>\n",
       "      <td>46.990744</td>\n",
       "      <td>7.464061</td>\n",
       "      <td>Central plateau</td>\n",
       "      <td>BE</td>\n",
       "      <td>https://data.geo.admin.ch/ch.meteoschweiz.klim...</td>\n",
       "      <td>https://data.geo.admin.ch/ch.meteoschweiz.klim...</td>\n",
       "    </tr>\n",
       "    <tr>\n",
       "      <th>4</th>\n",
       "      <td>La Chaux-de-Fonds</td>\n",
       "      <td>CDF</td>\n",
       "      <td>0-20000-0-06612</td>\n",
       "      <td>01.01.1900</td>\n",
       "      <td>1017</td>\n",
       "      <td>2550919</td>\n",
       "      <td>1214862</td>\n",
       "      <td>47.082947</td>\n",
       "      <td>6.792314</td>\n",
       "      <td>Western Jura</td>\n",
       "      <td>NE</td>\n",
       "      <td>https://data.geo.admin.ch/ch.meteoschweiz.klim...</td>\n",
       "      <td>https://data.geo.admin.ch/ch.meteoschweiz.klim...</td>\n",
       "    </tr>\n",
       "  </tbody>\n",
       "</table>\n",
       "</div>"
      ],
      "text/plain": [
       "             Station station/location         WIGOS-ID  Data since  \\\n",
       "0            Altdorf              ALT  0-20000-0-06672  01.01.1864   \n",
       "1          Andermatt              ANT  0-20000-0-06695  01.01.1864   \n",
       "2  Basel / Binningen              BAS  0-20000-0-06601  01.01.1755   \n",
       "3  Bern / Zollikofen              BER  0-20000-0-06631  01.01.1864   \n",
       "4  La Chaux-de-Fonds              CDF  0-20000-0-06612  01.01.1900   \n",
       "\n",
       "   Station height m. a. sea level  CoordinatesE  CoordinatesN   Latitude  \\\n",
       "0                             438       2690181       1193564  46.887069   \n",
       "1                            1438       2687445       1165044  46.630914   \n",
       "2                             316       2610909       1265612  47.541142   \n",
       "3                             553       2601934       1204410  46.990744   \n",
       "4                            1017       2550919       1214862  47.082947   \n",
       "\n",
       "   Longitude              Climate region Canton  \\\n",
       "0   8.621894  Central Alpine north slope     UR   \n",
       "1   8.580553  Central Alpine north slope     UR   \n",
       "2   7.583525                Eastern Jura     BL   \n",
       "3   7.464061             Central plateau     BE   \n",
       "4   6.792314                Western Jura     NE   \n",
       "\n",
       "                  URL Previous years (verified data)  \\\n",
       "0  https://data.geo.admin.ch/ch.meteoschweiz.klim...   \n",
       "1  https://data.geo.admin.ch/ch.meteoschweiz.klim...   \n",
       "2  https://data.geo.admin.ch/ch.meteoschweiz.klim...   \n",
       "3  https://data.geo.admin.ch/ch.meteoschweiz.klim...   \n",
       "4  https://data.geo.admin.ch/ch.meteoschweiz.klim...   \n",
       "\n",
       "                                    URL Current year  \n",
       "0  https://data.geo.admin.ch/ch.meteoschweiz.klim...  \n",
       "1  https://data.geo.admin.ch/ch.meteoschweiz.klim...  \n",
       "2  https://data.geo.admin.ch/ch.meteoschweiz.klim...  \n",
       "3  https://data.geo.admin.ch/ch.meteoschweiz.klim...  \n",
       "4  https://data.geo.admin.ch/ch.meteoschweiz.klim...  "
      ]
     },
     "execution_count": 2,
     "metadata": {},
     "output_type": "execute_result"
    }
   ],
   "source": [
    "weather_stations_url = \"https://data.geo.admin.ch/ch.meteoschweiz.klima/nbcn-tageswerte/liste-download-nbcn-d.csv\"\n",
    "weather_stations = pd.read_csv(weather_stations_url, sep=\";\", nrows=29, encoding='ANSI')\n",
    "weather_stations.head()"
   ]
  },
  {
   "cell_type": "markdown",
   "id": "30345db2",
   "metadata": {},
   "source": [
    "### Clean Data"
   ]
  },
  {
   "cell_type": "code",
   "execution_count": 3,
   "id": "1e4fcf02",
   "metadata": {},
   "outputs": [],
   "source": [
    "weather_stations.drop(columns=['WIGOS-ID', 'Data since', 'CoordinatesE', 'CoordinatesN',\n",
    "                       'Latitude', 'Longitude', 'Climate region',\n",
    "                       'URL Previous years (verified data)', 'URL Current year'], inplace=True)"
   ]
  },
  {
   "cell_type": "code",
   "execution_count": 4,
   "id": "6b27b7f0",
   "metadata": {},
   "outputs": [],
   "source": [
    "## override headers\n",
    "weather_stations.columns = ['name', 'isocode', 'altitude', 'canton_isocode']"
   ]
  },
  {
   "cell_type": "markdown",
   "id": "6278db11",
   "metadata": {},
   "source": [
    "### Export to csv"
   ]
  },
  {
   "cell_type": "code",
   "execution_count": 5,
   "id": "34fe8549",
   "metadata": {},
   "outputs": [],
   "source": [
    "weather_stations.to_csv( \"weather_stations_data.csv\", index=False, encoding='utf-8-sig', line_terminator='\\n')"
   ]
  }
 ],
 "metadata": {
  "kernelspec": {
   "display_name": "anaconda-dbs-kernel",
   "language": "python",
   "name": "anaconda-dbs-kernel"
  },
  "language_info": {
   "codemirror_mode": {
    "name": "ipython",
    "version": 3
   },
   "file_extension": ".py",
   "mimetype": "text/x-python",
   "name": "python",
   "nbconvert_exporter": "python",
   "pygments_lexer": "ipython3",
   "version": "3.7.11"
  }
 },
 "nbformat": 4,
 "nbformat_minor": 5
}
