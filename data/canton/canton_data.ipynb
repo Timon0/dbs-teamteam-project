{
 "cells": [
  {
   "cell_type": "code",
   "execution_count": 1,
   "id": "ad71c605-91fa-4714-9a62-9f2d9221d5d5",
   "metadata": {},
   "outputs": [],
   "source": [
    "import pandas as pd"
   ]
  },
  {
   "cell_type": "markdown",
   "id": "e9c2f18e-960c-4804-9b25-b53c142c9e0b",
   "metadata": {
    "tags": []
   },
   "source": [
    "### Setup Data"
   ]
  },
  {
   "cell_type": "code",
   "execution_count": 3,
   "id": "9b6231b2-2657-4637-bf40-484e06233126",
   "metadata": {},
   "outputs": [],
   "source": [
    "data = {\n",
    "    'isocode': ['AG','AR','AI','BL','BS','BE','FR','GE','GL','GR','JU','LU','NE','NW','OW','SH','SZ','SO','SG','TI','TG','UR','VD','VS','ZG','ZH'],\n",
    "    'name': ['Aargau','Appenzell Ausserrhoden','Appenzell Innerrhoden','Basel-Landschaft','Basel-Stadt','Bern','Freiburg','Genf','Glarus','Graubünden','Jura','Luzern','Neuenburg','Nidwalden','Obwalden','Schaffhausen','Schwyz','Solothurn','St. Gallen','Tessin','Thurgau','Uri','Waadt','Wallis','Zug','Zürich'],\n",
    "    'sbbregion_isocode': ['RME','ROT','ROT','RME','RME','RME','RWT','RWT','ROT','ROT','RME','RME','RWT','RME','RME','ROT','ROT','RME','ROT','RSD','ROT','ROT','RME','RME','ROT','ROT']\n",
    "}\n",
    "\n",
    "canton_data = pd.DataFrame(data=data)"
   ]
  },
  {
   "cell_type": "code",
   "execution_count": 5,
   "id": "43f48f3d-08cd-4b15-bbc5-214497d17328",
   "metadata": {},
   "outputs": [
    {
     "data": {
      "text/html": [
       "<div>\n",
       "<style scoped>\n",
       "    .dataframe tbody tr th:only-of-type {\n",
       "        vertical-align: middle;\n",
       "    }\n",
       "\n",
       "    .dataframe tbody tr th {\n",
       "        vertical-align: top;\n",
       "    }\n",
       "\n",
       "    .dataframe thead th {\n",
       "        text-align: right;\n",
       "    }\n",
       "</style>\n",
       "<table border=\"1\" class=\"dataframe\">\n",
       "  <thead>\n",
       "    <tr style=\"text-align: right;\">\n",
       "      <th></th>\n",
       "      <th>isocode</th>\n",
       "      <th>name</th>\n",
       "      <th>sbbregion_isocode</th>\n",
       "    </tr>\n",
       "  </thead>\n",
       "  <tbody>\n",
       "    <tr>\n",
       "      <th>0</th>\n",
       "      <td>AG</td>\n",
       "      <td>Aargau</td>\n",
       "      <td>RME</td>\n",
       "    </tr>\n",
       "    <tr>\n",
       "      <th>1</th>\n",
       "      <td>AR</td>\n",
       "      <td>Appenzell Ausserrhoden</td>\n",
       "      <td>ROT</td>\n",
       "    </tr>\n",
       "    <tr>\n",
       "      <th>2</th>\n",
       "      <td>AI</td>\n",
       "      <td>Appenzell Innerrhoden</td>\n",
       "      <td>ROT</td>\n",
       "    </tr>\n",
       "    <tr>\n",
       "      <th>3</th>\n",
       "      <td>BL</td>\n",
       "      <td>Basel-Landschaft</td>\n",
       "      <td>RME</td>\n",
       "    </tr>\n",
       "    <tr>\n",
       "      <th>4</th>\n",
       "      <td>BS</td>\n",
       "      <td>Basel-Stadt</td>\n",
       "      <td>RME</td>\n",
       "    </tr>\n",
       "  </tbody>\n",
       "</table>\n",
       "</div>"
      ],
      "text/plain": [
       "  isocode                    name sbbregion_isocode\n",
       "0      AG                  Aargau               RME\n",
       "1      AR  Appenzell Ausserrhoden               ROT\n",
       "2      AI   Appenzell Innerrhoden               ROT\n",
       "3      BL        Basel-Landschaft               RME\n",
       "4      BS             Basel-Stadt               RME"
      ]
     },
     "execution_count": 5,
     "metadata": {},
     "output_type": "execute_result"
    }
   ],
   "source": [
    "canton_data.head()"
   ]
  },
  {
   "cell_type": "markdown",
   "id": "3154b09e-6fa9-4d67-8084-520b7d6c928a",
   "metadata": {},
   "source": [
    "### Export to csv"
   ]
  },
  {
   "cell_type": "code",
   "execution_count": 6,
   "id": "ec42fdbb-4a90-41f9-a5ed-1ca7fa39636c",
   "metadata": {},
   "outputs": [],
   "source": [
    "canton_data.to_csv('canton.csv', index=False, encoding='utf-8-sig')"
   ]
  }
 ],
 "metadata": {
  "kernelspec": {
   "display_name": "Python 3 (ipykernel)",
   "language": "python",
   "name": "python3"
  },
  "language_info": {
   "codemirror_mode": {
    "name": "ipython",
    "version": 3
   },
   "file_extension": ".py",
   "mimetype": "text/x-python",
   "name": "python",
   "nbconvert_exporter": "python",
   "pygments_lexer": "ipython3",
   "version": "3.10.3"
  }
 },
 "nbformat": 4,
 "nbformat_minor": 5
}
